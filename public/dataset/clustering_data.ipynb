{
 "cells": [
  {
   "cell_type": "markdown",
   "metadata": {},
   "source": [
    "# Data & Clustering"
   ]
  },
  {
   "cell_type": "markdown",
   "metadata": {},
   "source": [
    "## Dataset"
   ]
  },
  {
   "cell_type": "code",
   "execution_count": 1,
   "metadata": {},
   "outputs": [],
   "source": [
    "import pandas as pd\n",
    "import numpy as np\n",
    "from sklearn.cluster import KMeans\n",
    "from sklearn.preprocessing import StandardScaler"
   ]
  },
  {
   "cell_type": "markdown",
   "metadata": {},
   "source": [
    "### Load dataset"
   ]
  },
  {
   "cell_type": "code",
   "execution_count": 2,
   "metadata": {},
   "outputs": [
    {
     "name": "stdout",
     "output_type": "stream",
     "text": [
      "Jumlah baris: 1272\n"
     ]
    }
   ],
   "source": [
    "file_location = \"indonesian_movies.csv\"\n",
    "\n",
    "# Membaca file CSV\n",
    "df = pd.read_csv(file_location)\n",
    "\n",
    "# Mengetahui jumlah baris (tidak termasuk header)\n",
    "row_count = len(df)\n",
    "print(f\"Jumlah baris: {row_count}\")"
   ]
  },
  {
   "cell_type": "markdown",
   "metadata": {},
   "source": [
    "### Clean dataset"
   ]
  },
  {
   "cell_type": "code",
   "execution_count": 3,
   "metadata": {},
   "outputs": [
    {
     "name": "stdout",
     "output_type": "stream",
     "text": [
      "Jumlah baris: 268\n",
      "Index(['title', 'year', 'description', 'genre', 'rating', 'users_rating',\n",
      "       'votes', 'languages', 'directors', 'actors', 'runtime'],\n",
      "      dtype='object')\n"
     ]
    },
    {
     "data": {
      "text/html": [
       "<div>\n",
       "<style scoped>\n",
       "    .dataframe tbody tr th:only-of-type {\n",
       "        vertical-align: middle;\n",
       "    }\n",
       "\n",
       "    .dataframe tbody tr th {\n",
       "        vertical-align: top;\n",
       "    }\n",
       "\n",
       "    .dataframe thead th {\n",
       "        text-align: right;\n",
       "    }\n",
       "</style>\n",
       "<table border=\"1\" class=\"dataframe\">\n",
       "  <thead>\n",
       "    <tr style=\"text-align: right;\">\n",
       "      <th></th>\n",
       "      <th>title</th>\n",
       "      <th>year</th>\n",
       "      <th>description</th>\n",
       "      <th>genre</th>\n",
       "      <th>rating</th>\n",
       "      <th>users_rating</th>\n",
       "      <th>votes</th>\n",
       "      <th>languages</th>\n",
       "      <th>directors</th>\n",
       "      <th>actors</th>\n",
       "      <th>runtime</th>\n",
       "    </tr>\n",
       "  </thead>\n",
       "  <tbody>\n",
       "    <tr>\n",
       "      <th>0</th>\n",
       "      <td>#FriendButMarried 2</td>\n",
       "      <td>2020</td>\n",
       "      <td>Ayudia (Mawar De Jongh) is not satisfied enoug...</td>\n",
       "      <td>Biography</td>\n",
       "      <td>13+</td>\n",
       "      <td>6.5</td>\n",
       "      <td>120</td>\n",
       "      <td>Indonesian</td>\n",
       "      <td>Rako Prijanto</td>\n",
       "      <td>['Adipati Dolken', 'Mawar Eva de Jongh', 'Vonn...</td>\n",
       "      <td>100 min</td>\n",
       "    </tr>\n",
       "    <tr>\n",
       "      <th>1</th>\n",
       "      <td>4 Mantan</td>\n",
       "      <td>2020</td>\n",
       "      <td>Sara, Airin, Rachel, and Amara were accidental...</td>\n",
       "      <td>Thriller</td>\n",
       "      <td>17+</td>\n",
       "      <td>6.4</td>\n",
       "      <td>8</td>\n",
       "      <td>Indonesian</td>\n",
       "      <td>Hanny Saputra</td>\n",
       "      <td>['Ranty Maria', 'Jeff Smith', 'Melanie Berentz...</td>\n",
       "      <td>80 min</td>\n",
       "    </tr>\n",
       "    <tr>\n",
       "      <th>2</th>\n",
       "      <td>Aku Tahu Kapan Kamu Mati</td>\n",
       "      <td>2020</td>\n",
       "      <td>After apparent death, Siena is able to see sig...</td>\n",
       "      <td>Horror</td>\n",
       "      <td>13+</td>\n",
       "      <td>5.4</td>\n",
       "      <td>17</td>\n",
       "      <td>Indonesian</td>\n",
       "      <td>Hadrah Daeng Ratu</td>\n",
       "      <td>['Natasha Wilona', 'Ria Ricis', 'Al Ghazali', ...</td>\n",
       "      <td>92 min</td>\n",
       "    </tr>\n",
       "    <tr>\n",
       "      <th>3</th>\n",
       "      <td>Anak Garuda</td>\n",
       "      <td>2020</td>\n",
       "      <td>Good Morning Indonesia, a school for poor orph...</td>\n",
       "      <td>Adventure</td>\n",
       "      <td>13+</td>\n",
       "      <td>9.1</td>\n",
       "      <td>27</td>\n",
       "      <td>Indonesian</td>\n",
       "      <td>Faozan Rizal</td>\n",
       "      <td>['Tissa Biani Azzahra', 'Violla Georgie', 'Aji...</td>\n",
       "      <td>129 min</td>\n",
       "    </tr>\n",
       "    <tr>\n",
       "      <th>4</th>\n",
       "      <td>Dignitate</td>\n",
       "      <td>2020</td>\n",
       "      <td>Alfi (Al Ghazali) meets Alana (Caitlin Halderm...</td>\n",
       "      <td>Drama</td>\n",
       "      <td>17+</td>\n",
       "      <td>7.6</td>\n",
       "      <td>33</td>\n",
       "      <td>Indonesian</td>\n",
       "      <td>Fajar Nugros</td>\n",
       "      <td>['Al Ghazali', 'Caitlin Halderman', 'Giorgino ...</td>\n",
       "      <td>109 min</td>\n",
       "    </tr>\n",
       "  </tbody>\n",
       "</table>\n",
       "</div>"
      ],
      "text/plain": [
       "                      title  year  \\\n",
       "0       #FriendButMarried 2  2020   \n",
       "1                  4 Mantan  2020   \n",
       "2  Aku Tahu Kapan Kamu Mati  2020   \n",
       "3               Anak Garuda  2020   \n",
       "4                 Dignitate  2020   \n",
       "\n",
       "                                         description      genre rating  \\\n",
       "0  Ayudia (Mawar De Jongh) is not satisfied enoug...  Biography    13+   \n",
       "1  Sara, Airin, Rachel, and Amara were accidental...   Thriller    17+   \n",
       "2  After apparent death, Siena is able to see sig...     Horror    13+   \n",
       "3  Good Morning Indonesia, a school for poor orph...  Adventure    13+   \n",
       "4  Alfi (Al Ghazali) meets Alana (Caitlin Halderm...      Drama    17+   \n",
       "\n",
       "   users_rating votes   languages          directors  \\\n",
       "0           6.5   120  Indonesian      Rako Prijanto   \n",
       "1           6.4     8  Indonesian      Hanny Saputra   \n",
       "2           5.4    17  Indonesian  Hadrah Daeng Ratu   \n",
       "3           9.1    27  Indonesian       Faozan Rizal   \n",
       "4           7.6    33  Indonesian       Fajar Nugros   \n",
       "\n",
       "                                              actors  runtime  \n",
       "0  ['Adipati Dolken', 'Mawar Eva de Jongh', 'Vonn...  100 min  \n",
       "1  ['Ranty Maria', 'Jeff Smith', 'Melanie Berentz...   80 min  \n",
       "2  ['Natasha Wilona', 'Ria Ricis', 'Al Ghazali', ...   92 min  \n",
       "3  ['Tissa Biani Azzahra', 'Violla Georgie', 'Aji...  129 min  \n",
       "4  ['Al Ghazali', 'Caitlin Halderman', 'Giorgino ...  109 min  "
      ]
     },
     "execution_count": 3,
     "metadata": {},
     "output_type": "execute_result"
    }
   ],
   "source": [
    "# Menghapus baris yang memiliki nilai missing (NaN) di seluruh kolom\n",
    "df_clean = df.dropna()\n",
    "\n",
    "# Menghapus baris yang memiliki nilai tertentu\n",
    "df_clean = df_clean[df_clean['rating'] != 'TV-14']\n",
    "df_clean = df_clean[df_clean['rating'] != 'TV-MA']\n",
    "df_clean = df_clean[df_clean['rating'] != 'Not Rated']\n",
    "\n",
    "row_count = len(df_clean)\n",
    "print(f\"Jumlah baris: {row_count}\")\n",
    "print(df_clean.columns)\n",
    "df_clean.head()"
   ]
  },
  {
   "cell_type": "code",
   "execution_count": 4,
   "metadata": {},
   "outputs": [
    {
     "data": {
      "image/png": "[encoded data removed]",
      "text/plain": [
       "<Figure size 640x480 with 1 Axes>"
      ]
     },
     "metadata": {},
     "output_type": "display_data"
    }
   ],
   "source": [
    "# @title rating\n",
    "\n",
    "from matplotlib import pyplot as plt\n",
    "import seaborn as sns\n",
    "df_clean.groupby('rating').size().plot(kind='barh', color=sns.palettes.mpl_palette('Dark2'))\n",
    "plt.gca().spines[['top', 'right',]].set_visible(False)"
   ]
  },
  {
   "cell_type": "code",
   "execution_count": 5,
   "metadata": {},
   "outputs": [
    {
     "data": {
      "image/png": "[encoded data removed]",
      "text/plain": [
       "<Figure size 640x480 with 1 Axes>"
      ]
     },
     "metadata": {},
     "output_type": "display_data"
    }
   ],
   "source": [
    "# @title genre\n",
    "\n",
    "from matplotlib import pyplot as plt\n",
    "import seaborn as sns\n",
    "df_clean.groupby('genre').size().plot(kind='barh', color=sns.palettes.mpl_palette('Dark2'))\n",
    "plt.gca().spines[['top', 'right',]].set_visible(False)"
   ]
  },
  {
   "cell_type": "code",
   "execution_count": 6,
   "metadata": {},
   "outputs": [
    {
     "data": {
      "image/png": "[encoded data removed]",
      "text/plain": [
       "<Figure size 640x480 with 1 Axes>"
      ]
     },
     "metadata": {},
     "output_type": "display_data"
    }
   ],
   "source": [
    "# @title language\n",
    "\n",
    "from matplotlib import pyplot as plt\n",
    "import seaborn as sns\n",
    "df_clean.groupby('languages').size().plot(kind='barh', color=sns.palettes.mpl_palette('Dark2'))\n",
    "plt.gca().spines[['top', 'right',]].set_visible(False)"
   ]
  },
  {
   "cell_type": "markdown",
   "metadata": {},
   "source": [
    "### Preprocessing data"
   ]
  },
  {
   "cell_type": "code",
   "execution_count": 56,
   "metadata": {},
   "outputs": [
    {
     "name": "stdout",
     "output_type": "stream",
     "text": [
      "Index(['title', 'year', 'description', 'genre', 'rating', 'users_rating',\n",
      "       'votes', 'languages', 'directors', 'actors', 'runtime', 'rating_float'],\n",
      "      dtype='object')\n"
     ]
    },
    {
     "data": {
      "text/html": [
       "<div>\n",
       "<style scoped>\n",
       "    .dataframe tbody tr th:only-of-type {\n",
       "        vertical-align: middle;\n",
       "    }\n",
       "\n",
       "    .dataframe tbody tr th {\n",
       "        vertical-align: top;\n",
       "    }\n",
       "\n",
       "    .dataframe thead th {\n",
       "        text-align: right;\n",
       "    }\n",
       "</style>\n",
       "<table border=\"1\" class=\"dataframe\">\n",
       "  <thead>\n",
       "    <tr style=\"text-align: right;\">\n",
       "      <th></th>\n",
       "      <th>title</th>\n",
       "      <th>year</th>\n",
       "      <th>description</th>\n",
       "      <th>genre</th>\n",
       "      <th>rating</th>\n",
       "      <th>users_rating</th>\n",
       "      <th>votes</th>\n",
       "      <th>languages</th>\n",
       "      <th>directors</th>\n",
       "      <th>actors</th>\n",
       "      <th>runtime</th>\n",
       "      <th>rating_float</th>\n",
       "    </tr>\n",
       "  </thead>\n",
       "  <tbody>\n",
       "    <tr>\n",
       "      <th>0</th>\n",
       "      <td>#FriendButMarried 2</td>\n",
       "      <td>2020</td>\n",
       "      <td>Ayudia (Mawar De Jongh) is not satisfied enoug...</td>\n",
       "      <td>Biography</td>\n",
       "      <td>13+</td>\n",
       "      <td>6.5</td>\n",
       "      <td>120</td>\n",
       "      <td>Indonesian</td>\n",
       "      <td>Rako Prijanto</td>\n",
       "      <td>['Adipati Dolken', 'Mawar Eva de Jongh', 'Vonn...</td>\n",
       "      <td>100 min</td>\n",
       "      <td>13.0</td>\n",
       "    </tr>\n",
       "    <tr>\n",
       "      <th>1</th>\n",
       "      <td>4 Mantan</td>\n",
       "      <td>2020</td>\n",
       "      <td>Sara, Airin, Rachel, and Amara were accidental...</td>\n",
       "      <td>Thriller</td>\n",
       "      <td>17+</td>\n",
       "      <td>6.4</td>\n",
       "      <td>8</td>\n",
       "      <td>Indonesian</td>\n",
       "      <td>Hanny Saputra</td>\n",
       "      <td>['Ranty Maria', 'Jeff Smith', 'Melanie Berentz...</td>\n",
       "      <td>80 min</td>\n",
       "      <td>17.0</td>\n",
       "    </tr>\n",
       "    <tr>\n",
       "      <th>2</th>\n",
       "      <td>Aku Tahu Kapan Kamu Mati</td>\n",
       "      <td>2020</td>\n",
       "      <td>After apparent death, Siena is able to see sig...</td>\n",
       "      <td>Horror</td>\n",
       "      <td>13+</td>\n",
       "      <td>5.4</td>\n",
       "      <td>17</td>\n",
       "      <td>Indonesian</td>\n",
       "      <td>Hadrah Daeng Ratu</td>\n",
       "      <td>['Natasha Wilona', 'Ria Ricis', 'Al Ghazali', ...</td>\n",
       "      <td>92 min</td>\n",
       "      <td>13.0</td>\n",
       "    </tr>\n",
       "    <tr>\n",
       "      <th>3</th>\n",
       "      <td>Anak Garuda</td>\n",
       "      <td>2020</td>\n",
       "      <td>Good Morning Indonesia, a school for poor orph...</td>\n",
       "      <td>Adventure</td>\n",
       "      <td>13+</td>\n",
       "      <td>9.1</td>\n",
       "      <td>27</td>\n",
       "      <td>Indonesian</td>\n",
       "      <td>Faozan Rizal</td>\n",
       "      <td>['Tissa Biani Azzahra', 'Violla Georgie', 'Aji...</td>\n",
       "      <td>129 min</td>\n",
       "      <td>13.0</td>\n",
       "    </tr>\n",
       "    <tr>\n",
       "      <th>4</th>\n",
       "      <td>Dignitate</td>\n",
       "      <td>2020</td>\n",
       "      <td>Alfi (Al Ghazali) meets Alana (Caitlin Halderm...</td>\n",
       "      <td>Drama</td>\n",
       "      <td>17+</td>\n",
       "      <td>7.6</td>\n",
       "      <td>33</td>\n",
       "      <td>Indonesian</td>\n",
       "      <td>Fajar Nugros</td>\n",
       "      <td>['Al Ghazali', 'Caitlin Halderman', 'Giorgino ...</td>\n",
       "      <td>109 min</td>\n",
       "      <td>17.0</td>\n",
       "    </tr>\n",
       "  </tbody>\n",
       "</table>\n",
       "</div>"
      ],
      "text/plain": [
       "                      title  year  \\\n",
       "0       #FriendButMarried 2  2020   \n",
       "1                  4 Mantan  2020   \n",
       "2  Aku Tahu Kapan Kamu Mati  2020   \n",
       "3               Anak Garuda  2020   \n",
       "4                 Dignitate  2020   \n",
       "\n",
       "                                         description      genre rating  \\\n",
       "0  Ayudia (Mawar De Jongh) is not satisfied enoug...  Biography    13+   \n",
       "1  Sara, Airin, Rachel, and Amara were accidental...   Thriller    17+   \n",
       "2  After apparent death, Siena is able to see sig...     Horror    13+   \n",
       "3  Good Morning Indonesia, a school for poor orph...  Adventure    13+   \n",
       "4  Alfi (Al Ghazali) meets Alana (Caitlin Halderm...      Drama    17+   \n",
       "\n",
       "   users_rating votes   languages          directors  \\\n",
       "0           6.5   120  Indonesian      Rako Prijanto   \n",
       "1           6.4     8  Indonesian      Hanny Saputra   \n",
       "2           5.4    17  Indonesian  Hadrah Daeng Ratu   \n",
       "3           9.1    27  Indonesian       Faozan Rizal   \n",
       "4           7.6    33  Indonesian       Fajar Nugros   \n",
       "\n",
       "                                              actors  runtime  rating_float  \n",
       "0  ['Adipati Dolken', 'Mawar Eva de Jongh', 'Vonn...  100 min          13.0  \n",
       "1  ['Ranty Maria', 'Jeff Smith', 'Melanie Berentz...   80 min          17.0  \n",
       "2  ['Natasha Wilona', 'Ria Ricis', 'Al Ghazali', ...   92 min          13.0  \n",
       "3  ['Tissa Biani Azzahra', 'Violla Georgie', 'Aji...  129 min          13.0  \n",
       "4  ['Al Ghazali', 'Caitlin Halderman', 'Giorgino ...  109 min          17.0  "
      ]
     },
     "execution_count": 56,
     "metadata": {},
     "output_type": "execute_result"
    }
   ],
   "source": [
    "# Konversi rating dari string ke float\n",
    "# Fungsi untuk konversi rating\n",
    "def convert_rating(rating):\n",
    "  if isinstance(rating, str):\n",
    "    if rating == 'SU':\n",
    "      return 0.0\n",
    "    elif rating == 'R':\n",
    "      return 13.0\n",
    "    elif rating == 'D':\n",
    "      return 21.0\n",
    "    elif rating.endswith('+'):    # Rating seperti '17+', '13+', dll\n",
    "      return float(rating[:-1])\n",
    "  elif isinstance(rating, (int, float)):\n",
    "    return float(rating)\n",
    "  return None\n",
    "\n",
    "# Menerapkan fungsi pada kolom rating\n",
    "df_clean['rating_float'] = df_clean['rating'].apply(convert_rating)\n",
    "\n",
    "print(df_clean.columns)\n",
    "df_clean.head()"
   ]
  },
  {
   "cell_type": "code",
   "execution_count": 57,
   "metadata": {},
   "outputs": [
    {
     "name": "stdout",
     "output_type": "stream",
     "text": [
      "Index(['title', 'year', 'description', 'genre', 'rating', 'users_rating',\n",
      "       'votes', 'languages', 'directors', 'actors', 'runtime', 'rating_float'],\n",
      "      dtype='object')\n"
     ]
    },
    {
     "data": {
      "text/html": [
       "<div>\n",
       "<style scoped>\n",
       "    .dataframe tbody tr th:only-of-type {\n",
       "        vertical-align: middle;\n",
       "    }\n",
       "\n",
       "    .dataframe tbody tr th {\n",
       "        vertical-align: top;\n",
       "    }\n",
       "\n",
       "    .dataframe thead th {\n",
       "        text-align: right;\n",
       "    }\n",
       "</style>\n",
       "<table border=\"1\" class=\"dataframe\">\n",
       "  <thead>\n",
       "    <tr style=\"text-align: right;\">\n",
       "      <th></th>\n",
       "      <th>title</th>\n",
       "      <th>year</th>\n",
       "      <th>description</th>\n",
       "      <th>genre</th>\n",
       "      <th>rating</th>\n",
       "      <th>users_rating</th>\n",
       "      <th>votes</th>\n",
       "      <th>languages</th>\n",
       "      <th>directors</th>\n",
       "      <th>actors</th>\n",
       "      <th>runtime</th>\n",
       "      <th>rating_float</th>\n",
       "    </tr>\n",
       "  </thead>\n",
       "  <tbody>\n",
       "    <tr>\n",
       "      <th>0</th>\n",
       "      <td>#FriendButMarried 2</td>\n",
       "      <td>2020</td>\n",
       "      <td>Ayudia (Mawar De Jongh) is not satisfied enoug...</td>\n",
       "      <td>Biography</td>\n",
       "      <td>13+</td>\n",
       "      <td>6.5</td>\n",
       "      <td>120.0</td>\n",
       "      <td>Indonesian</td>\n",
       "      <td>Rako Prijanto</td>\n",
       "      <td>['Adipati Dolken', 'Mawar Eva de Jongh', 'Vonn...</td>\n",
       "      <td>100.0</td>\n",
       "      <td>13.0</td>\n",
       "    </tr>\n",
       "    <tr>\n",
       "      <th>1</th>\n",
       "      <td>4 Mantan</td>\n",
       "      <td>2020</td>\n",
       "      <td>Sara, Airin, Rachel, and Amara were accidental...</td>\n",
       "      <td>Thriller</td>\n",
       "      <td>17+</td>\n",
       "      <td>6.4</td>\n",
       "      <td>8.0</td>\n",
       "      <td>Indonesian</td>\n",
       "      <td>Hanny Saputra</td>\n",
       "      <td>['Ranty Maria', 'Jeff Smith', 'Melanie Berentz...</td>\n",
       "      <td>80.0</td>\n",
       "      <td>17.0</td>\n",
       "    </tr>\n",
       "    <tr>\n",
       "      <th>2</th>\n",
       "      <td>Aku Tahu Kapan Kamu Mati</td>\n",
       "      <td>2020</td>\n",
       "      <td>After apparent death, Siena is able to see sig...</td>\n",
       "      <td>Horror</td>\n",
       "      <td>13+</td>\n",
       "      <td>5.4</td>\n",
       "      <td>17.0</td>\n",
       "      <td>Indonesian</td>\n",
       "      <td>Hadrah Daeng Ratu</td>\n",
       "      <td>['Natasha Wilona', 'Ria Ricis', 'Al Ghazali', ...</td>\n",
       "      <td>92.0</td>\n",
       "      <td>13.0</td>\n",
       "    </tr>\n",
       "    <tr>\n",
       "      <th>3</th>\n",
       "      <td>Anak Garuda</td>\n",
       "      <td>2020</td>\n",
       "      <td>Good Morning Indonesia, a school for poor orph...</td>\n",
       "      <td>Adventure</td>\n",
       "      <td>13+</td>\n",
       "      <td>9.1</td>\n",
       "      <td>27.0</td>\n",
       "      <td>Indonesian</td>\n",
       "      <td>Faozan Rizal</td>\n",
       "      <td>['Tissa Biani Azzahra', 'Violla Georgie', 'Aji...</td>\n",
       "      <td>129.0</td>\n",
       "      <td>13.0</td>\n",
       "    </tr>\n",
       "    <tr>\n",
       "      <th>4</th>\n",
       "      <td>Dignitate</td>\n",
       "      <td>2020</td>\n",
       "      <td>Alfi (Al Ghazali) meets Alana (Caitlin Halderm...</td>\n",
       "      <td>Drama</td>\n",
       "      <td>17+</td>\n",
       "      <td>7.6</td>\n",
       "      <td>33.0</td>\n",
       "      <td>Indonesian</td>\n",
       "      <td>Fajar Nugros</td>\n",
       "      <td>['Al Ghazali', 'Caitlin Halderman', 'Giorgino ...</td>\n",
       "      <td>109.0</td>\n",
       "      <td>17.0</td>\n",
       "    </tr>\n",
       "  </tbody>\n",
       "</table>\n",
       "</div>"
      ],
      "text/plain": [
       "                      title  year  \\\n",
       "0       #FriendButMarried 2  2020   \n",
       "1                  4 Mantan  2020   \n",
       "2  Aku Tahu Kapan Kamu Mati  2020   \n",
       "3               Anak Garuda  2020   \n",
       "4                 Dignitate  2020   \n",
       "\n",
       "                                         description      genre rating  \\\n",
       "0  Ayudia (Mawar De Jongh) is not satisfied enoug...  Biography    13+   \n",
       "1  Sara, Airin, Rachel, and Amara were accidental...   Thriller    17+   \n",
       "2  After apparent death, Siena is able to see sig...     Horror    13+   \n",
       "3  Good Morning Indonesia, a school for poor orph...  Adventure    13+   \n",
       "4  Alfi (Al Ghazali) meets Alana (Caitlin Halderm...      Drama    17+   \n",
       "\n",
       "   users_rating  votes   languages          directors  \\\n",
       "0           6.5  120.0  Indonesian      Rako Prijanto   \n",
       "1           6.4    8.0  Indonesian      Hanny Saputra   \n",
       "2           5.4   17.0  Indonesian  Hadrah Daeng Ratu   \n",
       "3           9.1   27.0  Indonesian       Faozan Rizal   \n",
       "4           7.6   33.0  Indonesian       Fajar Nugros   \n",
       "\n",
       "                                              actors  runtime  rating_float  \n",
       "0  ['Adipati Dolken', 'Mawar Eva de Jongh', 'Vonn...    100.0          13.0  \n",
       "1  ['Ranty Maria', 'Jeff Smith', 'Melanie Berentz...     80.0          17.0  \n",
       "2  ['Natasha Wilona', 'Ria Ricis', 'Al Ghazali', ...     92.0          13.0  \n",
       "3  ['Tissa Biani Azzahra', 'Violla Georgie', 'Aji...    129.0          13.0  \n",
       "4  ['Al Ghazali', 'Caitlin Halderman', 'Giorgino ...    109.0          17.0  "
      ]
     },
     "execution_count": 57,
     "metadata": {},
     "output_type": "execute_result"
    }
   ],
   "source": [
    "# Menghapus koma dan mengonversi kolom ke float\n",
    "df_clean['users_rating'] = df_clean['users_rating'].replace(',', '', regex=True).astype(float)\n",
    "df_clean['votes'] = df_clean['votes'].replace(',', '', regex=True).astype(float)\n",
    "df_clean['runtime'] = df_clean['runtime'].replace('min', '', regex=True).astype(float)\n",
    "\n",
    "print(df_clean.columns)\n",
    "df_clean.head()"
   ]
  },
  {
   "cell_type": "markdown",
   "metadata": {},
   "source": [
    "### Download csv"
   ]
  },
  {
   "cell_type": "code",
   "execution_count": 58,
   "metadata": {},
   "outputs": [
    {
     "name": "stdout",
     "output_type": "stream",
     "text": [
      "File CSV telah dibuat di: d:\\02_Skripsi\\movie_recommendation\\public\\dataset\\film_dataset.csv\n"
     ]
    }
   ],
   "source": [
    "# Download CSV hasil dari cleaning dataset\n",
    "import os\n",
    "\n",
    "# Set index mulai dari 1\n",
    "df_clean.insert(0, 'id', range(1, 1 + len(df_clean)))\n",
    "\n",
    "# Simpan ke file CSV\n",
    "file_path = 'film_dataset.csv'\n",
    "df_clean.to_csv(file_path, index=False)\n",
    "\n",
    "# Tampilkan lokasi file\n",
    "print(f\"File CSV telah dibuat di: {os.path.abspath(file_path)}\")"
   ]
  },
  {
   "cell_type": "markdown",
   "metadata": {},
   "source": [
    "## Clustering"
   ]
  },
  {
   "cell_type": "code",
   "execution_count": 59,
   "metadata": {},
   "outputs": [
    {
     "data": {
      "text/html": [
       "<div>\n",
       "<style scoped>\n",
       "    .dataframe tbody tr th:only-of-type {\n",
       "        vertical-align: middle;\n",
       "    }\n",
       "\n",
       "    .dataframe tbody tr th {\n",
       "        vertical-align: top;\n",
       "    }\n",
       "\n",
       "    .dataframe thead th {\n",
       "        text-align: right;\n",
       "    }\n",
       "</style>\n",
       "<table border=\"1\" class=\"dataframe\">\n",
       "  <thead>\n",
       "    <tr style=\"text-align: right;\">\n",
       "      <th></th>\n",
       "      <th>rating_float</th>\n",
       "      <th>users_rating</th>\n",
       "      <th>votes</th>\n",
       "      <th>runtime</th>\n",
       "      <th>genre_Action</th>\n",
       "      <th>genre_Adventure</th>\n",
       "      <th>genre_Animation</th>\n",
       "      <th>genre_Biography</th>\n",
       "      <th>genre_Comedy</th>\n",
       "      <th>genre_Crime</th>\n",
       "      <th>genre_Drama</th>\n",
       "      <th>genre_History</th>\n",
       "      <th>genre_Horror</th>\n",
       "      <th>genre_Romance</th>\n",
       "      <th>genre_Thriller</th>\n",
       "      <th>languages_Dutch</th>\n",
       "      <th>languages_English</th>\n",
       "      <th>languages_Indonesian</th>\n",
       "      <th>languages_Minangkabau</th>\n",
       "    </tr>\n",
       "  </thead>\n",
       "  <tbody>\n",
       "    <tr>\n",
       "      <th>0</th>\n",
       "      <td>13.0</td>\n",
       "      <td>6.5</td>\n",
       "      <td>120.0</td>\n",
       "      <td>100.0</td>\n",
       "      <td>False</td>\n",
       "      <td>False</td>\n",
       "      <td>False</td>\n",
       "      <td>True</td>\n",
       "      <td>False</td>\n",
       "      <td>False</td>\n",
       "      <td>False</td>\n",
       "      <td>False</td>\n",
       "      <td>False</td>\n",
       "      <td>False</td>\n",
       "      <td>False</td>\n",
       "      <td>False</td>\n",
       "      <td>False</td>\n",
       "      <td>True</td>\n",
       "      <td>False</td>\n",
       "    </tr>\n",
       "    <tr>\n",
       "      <th>1</th>\n",
       "      <td>17.0</td>\n",
       "      <td>6.4</td>\n",
       "      <td>8.0</td>\n",
       "      <td>80.0</td>\n",
       "      <td>False</td>\n",
       "      <td>False</td>\n",
       "      <td>False</td>\n",
       "      <td>False</td>\n",
       "      <td>False</td>\n",
       "      <td>False</td>\n",
       "      <td>False</td>\n",
       "      <td>False</td>\n",
       "      <td>False</td>\n",
       "      <td>False</td>\n",
       "      <td>True</td>\n",
       "      <td>False</td>\n",
       "      <td>False</td>\n",
       "      <td>True</td>\n",
       "      <td>False</td>\n",
       "    </tr>\n",
       "    <tr>\n",
       "      <th>2</th>\n",
       "      <td>13.0</td>\n",
       "      <td>5.4</td>\n",
       "      <td>17.0</td>\n",
       "      <td>92.0</td>\n",
       "      <td>False</td>\n",
       "      <td>False</td>\n",
       "      <td>False</td>\n",
       "      <td>False</td>\n",
       "      <td>False</td>\n",
       "      <td>False</td>\n",
       "      <td>False</td>\n",
       "      <td>False</td>\n",
       "      <td>True</td>\n",
       "      <td>False</td>\n",
       "      <td>False</td>\n",
       "      <td>False</td>\n",
       "      <td>False</td>\n",
       "      <td>True</td>\n",
       "      <td>False</td>\n",
       "    </tr>\n",
       "    <tr>\n",
       "      <th>3</th>\n",
       "      <td>13.0</td>\n",
       "      <td>9.1</td>\n",
       "      <td>27.0</td>\n",
       "      <td>129.0</td>\n",
       "      <td>False</td>\n",
       "      <td>True</td>\n",
       "      <td>False</td>\n",
       "      <td>False</td>\n",
       "      <td>False</td>\n",
       "      <td>False</td>\n",
       "      <td>False</td>\n",
       "      <td>False</td>\n",
       "      <td>False</td>\n",
       "      <td>False</td>\n",
       "      <td>False</td>\n",
       "      <td>False</td>\n",
       "      <td>False</td>\n",
       "      <td>True</td>\n",
       "      <td>False</td>\n",
       "    </tr>\n",
       "    <tr>\n",
       "      <th>4</th>\n",
       "      <td>17.0</td>\n",
       "      <td>7.6</td>\n",
       "      <td>33.0</td>\n",
       "      <td>109.0</td>\n",
       "      <td>False</td>\n",
       "      <td>False</td>\n",
       "      <td>False</td>\n",
       "      <td>False</td>\n",
       "      <td>False</td>\n",
       "      <td>False</td>\n",
       "      <td>True</td>\n",
       "      <td>False</td>\n",
       "      <td>False</td>\n",
       "      <td>False</td>\n",
       "      <td>False</td>\n",
       "      <td>False</td>\n",
       "      <td>False</td>\n",
       "      <td>True</td>\n",
       "      <td>False</td>\n",
       "    </tr>\n",
       "  </tbody>\n",
       "</table>\n",
       "</div>"
      ],
      "text/plain": [
       "   rating_float  users_rating  votes  runtime  genre_Action  genre_Adventure  \\\n",
       "0          13.0           6.5  120.0    100.0         False            False   \n",
       "1          17.0           6.4    8.0     80.0         False            False   \n",
       "2          13.0           5.4   17.0     92.0         False            False   \n",
       "3          13.0           9.1   27.0    129.0         False             True   \n",
       "4          17.0           7.6   33.0    109.0         False            False   \n",
       "\n",
       "   genre_Animation  genre_Biography  genre_Comedy  genre_Crime  genre_Drama  \\\n",
       "0            False             True         False        False        False   \n",
       "1            False            False         False        False        False   \n",
       "2            False            False         False        False        False   \n",
       "3            False            False         False        False        False   \n",
       "4            False            False         False        False         True   \n",
       "\n",
       "   genre_History  genre_Horror  genre_Romance  genre_Thriller  \\\n",
       "0          False         False          False           False   \n",
       "1          False         False          False            True   \n",
       "2          False          True          False           False   \n",
       "3          False         False          False           False   \n",
       "4          False         False          False           False   \n",
       "\n",
       "   languages_Dutch  languages_English  languages_Indonesian  \\\n",
       "0            False              False                  True   \n",
       "1            False              False                  True   \n",
       "2            False              False                  True   \n",
       "3            False              False                  True   \n",
       "4            False              False                  True   \n",
       "\n",
       "   languages_Minangkabau  \n",
       "0                  False  \n",
       "1                  False  \n",
       "2                  False  \n",
       "3                  False  \n",
       "4                  False  "
      ]
     },
     "execution_count": 59,
     "metadata": {},
     "output_type": "execute_result"
    }
   ],
   "source": [
    "# Pilih fitur yang relevan untuk clustering\n",
    "features = df_clean[\n",
    "    [\n",
    "        'genre',\n",
    "        'rating_float',\n",
    "        'users_rating',\n",
    "        'votes',\n",
    "        'languages',\n",
    "        'runtime'\n",
    "    ]\n",
    "]\n",
    "\n",
    "# Fitur yang perlu diubah menjadi encoding numerik menggunakan one-hot encoding\n",
    "features = pd.get_dummies(features, columns=['genre', 'languages'])\n",
    "\n",
    "# Pastikan dataset tidak memiliki missing value\n",
    "features = features.dropna()\n",
    "\n",
    "# Apabila ada nilai kosong dan ingin mengganti dengan nilai tertentu, misalnya mengganti nilai kosong dengan 0\n",
    "# features = features.fillna(0)\n",
    "\n",
    "# Lihat hasil preprocessing\n",
    "features.head()"
   ]
  },
  {
   "cell_type": "markdown",
   "metadata": {},
   "source": [
    "### Normalisasi data"
   ]
  },
  {
   "cell_type": "code",
   "execution_count": 60,
   "metadata": {},
   "outputs": [
    {
     "data": {
      "text/plain": [
       "array([[-0.06463214,  0.07800866, -0.11403503, ..., -0.1754116 ,\n",
       "         0.19687481, -0.06119901],\n",
       "       [ 0.74101498,  0.00360894, -0.12231221, ..., -0.1754116 ,\n",
       "         0.19687481, -0.06119901],\n",
       "       [-0.06463214, -0.74038823, -0.12164708, ..., -0.1754116 ,\n",
       "         0.19687481, -0.06119901],\n",
       "       ...,\n",
       "       [-0.06463214, -1.0379871 , -0.10738373, ..., -0.1754116 ,\n",
       "         0.19687481, -0.06119901],\n",
       "       [-0.06463214, -0.5915888 , -0.09496798, ..., -0.1754116 ,\n",
       "         0.19687481, -0.06119901],\n",
       "       [-0.06463214, -0.81478795, -0.12112975, ..., -0.1754116 ,\n",
       "         0.19687481, -0.06119901]])"
      ]
     },
     "execution_count": 60,
     "metadata": {},
     "output_type": "execute_result"
    }
   ],
   "source": [
    "# Normalisasi data\n",
    "scaler = StandardScaler()\n",
    "features_scaled = scaler.fit_transform(features)\n",
    "features_scaled"
   ]
  },
  {
   "cell_type": "markdown",
   "metadata": {},
   "source": [
    "### Menambahkan hasil features_scaled di csv"
   ]
  },
  {
   "cell_type": "code",
   "execution_count": 61,
   "metadata": {},
   "outputs": [
    {
     "name": "stdout",
     "output_type": "stream",
     "text": [
      "CSV berhasil disimpan di: d:\\02_Skripsi\\movie_recommendation\\public\\dataset\\film_dataset_with_scaled_features.csv\n"
     ]
    }
   ],
   "source": [
    "# Buat DataFrame baru untuk fitur yang telah dinormalisasi\n",
    "scaled_df = pd.DataFrame(\n",
    "    features_scaled,\n",
    "    columns=[f\"{col}_scaled\" for col in features.columns]\n",
    ")\n",
    "\n",
    "# Gabungkan ke DataFrame asli (tidak menimpa kolom asli)\n",
    "df_combined = pd.concat([df_clean.reset_index(drop=True), scaled_df], axis=1)\n",
    "\n",
    "# Simpan ke CSV\n",
    "file_path = \"film_dataset_with_scaled_features.csv\"\n",
    "df_combined.to_csv(file_path, index=False)\n",
    "\n",
    "print(f\"CSV berhasil disimpan di: {os.path.abspath(file_path)}\")\n"
   ]
  },
  {
   "cell_type": "markdown",
   "metadata": {},
   "source": [
    "### Elbow Method"
   ]
  },
  {
   "cell_type": "code",
   "execution_count": 62,
   "metadata": {},
   "outputs": [
    {
     "data": {
      "image/png": "[encoded data removed]",
      "text/plain": [
       "<Figure size 640x480 with 1 Axes>"
      ]
     },
     "metadata": {},
     "output_type": "display_data"
    }
   ],
   "source": [
    "# Menentukan Jumlah Cluster (k) Optimal menggunakan Elbow method\n",
    "inertia = []\n",
    "for k in range(2,10):\n",
    "  kmeans = KMeans(n_clusters=k, random_state=35)\n",
    "  kmeans.fit(features_scaled)\n",
    "  inertia.append(kmeans.inertia_)\n",
    "\n",
    "# Visualisasi Elbow\n",
    "plt.plot(range(2, 10), inertia, marker='o')\n",
    "plt.title('Elbow Method')\n",
    "plt.xlabel('Number of Clusters')\n",
    "plt.ylabel('Inertia')\n",
    "plt.show()"
   ]
  },
  {
   "cell_type": "markdown",
   "metadata": {},
   "source": [
    "### Clustering dengan K-Means"
   ]
  },
  {
   "cell_type": "code",
   "execution_count": 63,
   "metadata": {},
   "outputs": [
    {
     "name": "stdout",
     "output_type": "stream",
     "text": [
      "                                  title  cluster\n",
      "0                   #FriendButMarried 2        0\n",
      "1                              4 Mantan        3\n",
      "2              Aku Tahu Kapan Kamu Mati        3\n",
      "3                           Anak Garuda        0\n",
      "4                             Dignitate        0\n",
      "...                                 ...      ...\n",
      "1055                        Lady Dragon        5\n",
      "1141                   Sama Juga Bohong        0\n",
      "1192  Ferocious Female Freedom Fighters        3\n",
      "1197                     Pengabdi Setan        3\n",
      "1215                Steel-Fisted Dragon        3\n",
      "\n",
      "[268 rows x 2 columns]\n"
     ]
    }
   ],
   "source": [
    "# Clustering dengan k = 5 (hasil dari elbow method)\n",
    "kmeans = KMeans(n_clusters=6, random_state=35)\n",
    "df_clean['cluster'] = kmeans.fit_predict(features_scaled)\n",
    "\n",
    "print(df_clean[['title', 'cluster']])"
   ]
  },
  {
   "cell_type": "markdown",
   "metadata": {},
   "source": [
    "## Sistem Rekomendasi"
   ]
  },
  {
   "cell_type": "code",
   "execution_count": 64,
   "metadata": {},
   "outputs": [],
   "source": [
    "def recommend_movies(movie_title, data, num_recommendations=10):\n",
    "  # Cari cluster film yang dipilih\n",
    "  cluster = data.loc[data['title'] == movie_title, 'cluster'].values[0]\n",
    "\n",
    "  # Ambil film lain dalam cluster yang sama\n",
    "  recommendations = data[data['cluster'] == cluster]\n",
    "\n",
    "  # Exclude the selector movie\n",
    "  recommendations = recommendations[recommendations['title'] != movie_title]\n",
    "\n",
    "  return recommendations[['title', 'genre', 'rating']].head(num_recommendations)"
   ]
  },
  {
   "cell_type": "code",
   "execution_count": 65,
   "metadata": {},
   "outputs": [
    {
     "name": "stdout",
     "output_type": "stream",
     "text": [
      "                                 title      genre rating\n",
      "0                  #FriendButMarried 2  Biography    13+\n",
      "4                            Dignitate      Drama    17+\n",
      "9                             Mariposa      Drama    13+\n",
      "11                               Milea      Drama    13+\n",
      "12  Nanti Kita Cerita Tentang Hari Ini      Drama    13+\n",
      "13                           Nikah Yuk      Drama    13+\n",
      "15                 Si Doel the Movie 3      Drama    13+\n",
      "22                     27 Steps of May      Drama    17+\n",
      "23                       99 Nama Cinta      Drama     SU\n",
      "25                       After Met You      Drama    13+\n"
     ]
    }
   ],
   "source": [
    "# Contoh penggunaan\n",
    "print(recommend_movies('Anak Garuda', df_clean))"
   ]
  },
  {
   "cell_type": "code",
   "execution_count": null,
   "metadata": {},
   "outputs": [],
   "source": []
  }
 ],
 "metadata": {
  "kernelspec": {
   "display_name": "Python 3",
   "language": "python",
   "name": "python3"
  },
  "language_info": {
   "codemirror_mode": {
    "name": "ipython",
    "version": 3
   },
   "file_extension": ".py",
   "mimetype": "text/x-python",
   "name": "python",
   "nbconvert_exporter": "python",
   "pygments_lexer": "ipython3",
   "version": "3.13.1"
  }
 },
 "nbformat": 4,
 "nbformat_minor": 2
}
